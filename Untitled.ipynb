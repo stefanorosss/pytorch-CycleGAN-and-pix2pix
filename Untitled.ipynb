{
 "cells": [
  {
   "cell_type": "code",
   "execution_count": 2,
   "metadata": {},
   "outputs": [],
   "source": [
    "import PIL\n",
    "import os\n",
    "from PIL import Image\n",
    "\n",
    "path = 'datasets/olracle/B/train/'\n",
    "for _ in os.listdir(path):\n",
    "    #read the image\n",
    "    im = Image.open(path+_)\n",
    "\n",
    "    #flip image\n",
    "    out = im.transpose(PIL.Image.ROTATE_90)\n",
    "    out.save(f'{path}90{_}.png')\n",
    "    out = im.transpose(PIL.Image.ROTATE_180)\n",
    "    out.save(f'{path}180{_}.png')\n",
    "    out = im.transpose(PIL.Image.ROTATE_270)\n",
    "    out.save(f'{path}270{_}.png')\n",
    "\n"
   ]
  },
  {
   "cell_type": "code",
   "execution_count": null,
   "metadata": {},
   "outputs": [],
   "source": [
    "\n"
   ]
  }
 ],
 "metadata": {
  "kernelspec": {
   "display_name": "conda_python3",
   "language": "python",
   "name": "conda_python3"
  },
  "language_info": {
   "codemirror_mode": {
    "name": "ipython",
    "version": 3
   },
   "file_extension": ".py",
   "mimetype": "text/x-python",
   "name": "python",
   "nbconvert_exporter": "python",
   "pygments_lexer": "ipython3",
   "version": "3.6.10"
  }
 },
 "nbformat": 4,
 "nbformat_minor": 4
}
